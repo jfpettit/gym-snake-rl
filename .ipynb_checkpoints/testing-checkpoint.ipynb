{
 "cells": [
  {
   "cell_type": "code",
   "execution_count": 1,
   "metadata": {},
   "outputs": [],
   "source": [
    "from core_snake import Arena\n",
    "import matplotlib.pyplot as plt\n",
    "import numpy as np\n",
    "import random"
   ]
  },
  {
   "cell_type": "code",
   "execution_count": 22,
   "metadata": {},
   "outputs": [],
   "source": [
    "arena = Arena(size=(25, 25), walls=True, num_foods=5, num_obstacles=7)"
   ]
  },
  {
   "cell_type": "code",
   "execution_count": 23,
   "metadata": {},
   "outputs": [
    {
     "data": {
      "text/plain": [
       "<matplotlib.image.AxesImage at 0x110acaa20>"
      ]
     },
     "execution_count": 23,
     "metadata": {},
     "output_type": "execute_result"
    },
    {
     "data": {
      "image/png": "[encoded data removed]",
      "text/plain": [
       "<Figure size 432x288 with 1 Axes>"
      ]
     },
     "metadata": {
      "needs_background": "light"
     },
     "output_type": "display_data"
    }
   ],
   "source": [
    "plt.imshow(arena.render_obs())"
   ]
  },
  {
   "cell_type": "code",
   "execution_count": 66,
   "metadata": {},
   "outputs": [],
   "source": [
    "avail1 = range(0, arena.size[0])\n",
    "avail2 = range(0, arena.size[1])\n",
    "grid = arena.arena.copy()"
   ]
  },
  {
   "cell_type": "code",
   "execution_count": 650,
   "metadata": {},
   "outputs": [
    {
     "data": {
      "text/plain": [
       "<matplotlib.image.AxesImage at 0x8315c7cf8>"
      ]
     },
     "execution_count": 650,
     "metadata": {},
     "output_type": "execute_result"
    },
    {
     "data": {
      "image/png": "[encoded data removed]",
      "text/plain": [
       "<Figure size 432x288 with 1 Axes>"
      ]
     },
     "metadata": {
      "needs_background": "light"
     },
     "output_type": "display_data"
    }
   ],
   "source": [
    "block_size_limit=5\n",
    "for i in range(1000):\n",
    "    a = random.choice(range(1, 75))\n",
    "    b = random.choice(range(1, 75))\n",
    "    asub_val = random.choice(list(range(block_size_limit)))\n",
    "    bsub_val = random.choice(list(range(block_size_limit)))\n",
    "    #subval = random.choice(range(block_size_limit))\n",
    "    grid[a-asub_val:a, b-bsub_val:b] = 255\n",
    "plt.imshow(grid)"
   ]
  },
  {
   "cell_type": "code",
   "execution_count": 651,
   "metadata": {},
   "outputs": [
    {
     "data": {
      "text/plain": [
       "<matplotlib.image.AxesImage at 0x8317ddc18>"
      ]
     },
     "execution_count": 651,
     "metadata": {},
     "output_type": "execute_result"
    },
    {
     "data": {
      "image/png": "[encoded data removed]",
      "text/plain": [
       "<Figure size 432x288 with 1 Axes>"
      ]
     },
     "metadata": {
      "needs_background": "light"
     },
     "output_type": "display_data"
    }
   ],
   "source": [
    "for j in range(2):\n",
    "    for i in range(1, len(grid)-1):\n",
    "        for j in range(1, len(grid[i])-1):\n",
    "            above = grid[i-1, j]\n",
    "            below = grid[i+1, j]\n",
    "            left = grid[i, j-1]\n",
    "            right = grid[i, j+1]\n",
    "            aboveleft = grid[i-1, j-1]\n",
    "            aboveright = grid[i-1, j+1]\n",
    "            belowleft = grid[i+1, j-1]\n",
    "            belowright=grid[i+1, j+1]\n",
    "            val = above+below+left+right+aboveleft+aboveright+belowleft+belowright\n",
    "            if val >= 5 * 255:\n",
    "                grid[i, j] = 255\n",
    "\n",
    "    for i in range(len(grid)-2, 0, -1):\n",
    "        for j in range(len(grid[i])-2, 0, -1):\n",
    "            above = grid[i-1, j]\n",
    "            below = grid[i+1, j]\n",
    "            left = grid[i, j-1]\n",
    "            right = grid[i, j+1]\n",
    "            aboveleft = grid[i-1, j-1]\n",
    "            aboveright = grid[i-1, j+1]\n",
    "            belowleft = grid[i+1, j-1]\n",
    "            belowright=grid[i+1, j+1]\n",
    "            val = above+below+left+right+aboveleft+aboveright+belowleft+belowright\n",
    "            if val >= 5 * 255:\n",
    "                grid[i, j] = 255\n",
    "plt.imshow(grid)"
   ]
  },
  {
   "cell_type": "markdown",
   "metadata": {},
   "source": [
    "Idea for evolution of snake game: make so that snake can go through walls but it costs a unit of health or energy for each block of wall it goes through. Then every time it eats a piece of food, its health gets replenished"
   ]
  },
  {
   "cell_type": "code",
   "execution_count": 469,
   "metadata": {},
   "outputs": [
    {
     "name": "stdout",
     "output_type": "stream",
     "text": [
      "(array([ 1,  2,  3,  4,  5,  6,  7,  8, 10, 11, 12, 13, 14, 15, 16, 17, 18,\n",
      "       19, 20, 21, 22, 23]),)\n"
     ]
    },
    {
     "data": {
      "text/plain": [
       "(array([ 1,  2,  3,  4,  5,  6,  7,  8,  9, 10, 11, 12, 13, 14, 15, 16, 17,\n",
       "        18, 19, 20, 21, 22, 23]),)"
      ]
     },
     "execution_count": 469,
     "metadata": {},
     "output_type": "execute_result"
    }
   ],
   "source": [
    "print(np.where(grid[:, 1] == 0))\n",
    "#print(np.where(grid[:, 7] == 0))\n",
    "np.where(grid[1] == 0)"
   ]
  },
  {
   "cell_type": "code",
   "execution_count": 45,
   "metadata": {},
   "outputs": [],
   "source": [
    "rowmiss = []\n",
    "colmiss = []\n",
    "for i in range(len(grid)):\n",
    "    for j in range(len(grid[i])):\n",
    "        rows = np.where(grid[i] == 0)[0]\n",
    "        cols = np.where(grid[:, j] == 0)[0]\n",
    "        for x in range(1, len(rows)):\n",
    "            if rows[x-1] != rows[x]-1:\n",
    "                rowmiss.append(rows[x])\n",
    "                for y in range(1, len(cols)):\n",
    "                    if cols[y-1] != cols[y]-1:\n",
    "                        colmiss.append(cols[y])\n",
    "        #if len(rowmiss) > 1 and len(colmiss) > 1:\n",
    "        #    for i in range(len(rowmiss)):\n",
    "        #        for j in range(len(colmiss)):\n",
    "        #            grid[:rowmiss[i], :colmiss[j]].fill(255)"
   ]
  },
  {
   "cell_type": "code",
   "execution_count": 46,
   "metadata": {},
   "outputs": [
    {
     "name": "stdout",
     "output_type": "stream",
     "text": [
      "[8, 8, 8, 8, 8, 8, 8, 8, 8, 8, 8, 8, 8, 8, 8, 8, 8, 8, 8, 8, 8, 8, 8, 8, 8, 8, 8, 8, 8, 8, 8, 8, 8, 8, 8, 8, 8, 8, 8, 8, 8, 8, 8, 8, 8, 8, 8, 8, 8, 8, 8, 8, 8, 8, 8, 8, 8, 8, 8, 8]\n"
     ]
    }
   ],
   "source": [
    "print(rowmiss)"
   ]
  },
  {
   "cell_type": "code",
   "execution_count": 47,
   "metadata": {},
   "outputs": [
    {
     "name": "stdout",
     "output_type": "stream",
     "text": [
      "[6, 6, 6, 6, 6, 6, 6, 6]\n"
     ]
    }
   ],
   "source": [
    "print(colmiss)"
   ]
  },
  {
   "cell_type": "code",
   "execution_count": 48,
   "metadata": {},
   "outputs": [],
   "source": [
    "grid[:min(rowmiss), :min(colmiss)].fill(255)"
   ]
  },
  {
   "cell_type": "code",
   "execution_count": 49,
   "metadata": {},
   "outputs": [
    {
     "data": {
      "text/plain": [
       "<matplotlib.image.AxesImage at 0x81ec4a518>"
      ]
     },
     "execution_count": 49,
     "metadata": {},
     "output_type": "execute_result"
    },
    {
     "data": {
      "image/png": "[encoded data removed]",
      "text/plain": [
       "<Figure size 432x288 with 1 Axes>"
      ]
     },
     "metadata": {
      "needs_background": "light"
     },
     "output_type": "display_data"
    }
   ],
   "source": [
    "plt.imshow(grid)"
   ]
  },
  {
   "cell_type": "code",
   "execution_count": 57,
   "metadata": {},
   "outputs": [
    {
     "data": {
      "text/plain": [
       "'point1 = [random.choice(avail1), random.choice(avail2)]\\npoint2 = [random.choice(avail1), random.choice(avail2)]\\npoint3 = [random.choice(avail1), random.choice(avail2)]'"
      ]
     },
     "execution_count": 57,
     "metadata": {},
     "output_type": "execute_result"
    }
   ],
   "source": [
    "num_obstacles = 10\n",
    "for i in range(num_obstacles):\n",
    "    randnum = random.choice(range(min(arena.size)))\n",
    "    rowcol = random.choice([0, 1])\n",
    "    if rowcol is 0:\n",
    "        grid[randnum, :max(arena.size)//2] = 255\n",
    "    elif rowcol is 1:\n",
    "        grid[:max(arena.size)//2, randnum] = 255\n",
    "\n",
    "'''point1 = [random.choice(avail1), random.choice(avail2)]\n",
    "point2 = [random.choice(avail1), random.choice(avail2)]\n",
    "point3 = [random.choice(avail1), random.choice(avail2)]'''\n",
    "\n",
    "\n"
   ]
  },
  {
   "cell_type": "code",
   "execution_count": null,
   "metadata": {},
   "outputs": [],
   "source": []
  },
  {
   "cell_type": "code",
   "execution_count": 62,
   "metadata": {},
   "outputs": [
    {
     "data": {
      "text/plain": [
       "<matplotlib.image.AxesImage at 0x818c76978>"
      ]
     },
     "execution_count": 62,
     "metadata": {},
     "output_type": "execute_result"
    },
    {
     "data": {
      "image/png": "[encoded data removed]",
      "text/plain": [
       "<Figure size 432x288 with 1 Axes>"
      ]
     },
     "metadata": {
      "needs_background": "light"
     },
     "output_type": "display_data"
    }
   ],
   "source": [
    "tmp = np.copy(grid)\n",
    "plt.imshow(tmp)"
   ]
  },
  {
   "cell_type": "code",
   "execution_count": 63,
   "metadata": {},
   "outputs": [
    {
     "data": {
      "text/plain": [
       "array([255., 255., 255., 255., 255., 255., 255., 255., 255.,   0.,   0.,\n",
       "         0.,   0.,   0., 255.])"
      ]
     },
     "execution_count": 63,
     "metadata": {},
     "output_type": "execute_result"
    }
   ],
   "source": [
    "tmp[1]"
   ]
  },
  {
   "cell_type": "code",
   "execution_count": 49,
   "metadata": {},
   "outputs": [],
   "source": [
    "col = tmp[1]\n",
    "point = col[1]\n",
    "check = None\n",
    "for i in range(1, len(col)-2):\n",
    "    if col[i] == 0:\n",
    "        check = i\n",
    "    if check is not None and col[i] == 255:\n",
    "        find = i\n",
    "        col[check-1:find] = 255\n",
    "        "
   ]
  },
  {
   "cell_type": "code",
   "execution_count": 50,
   "metadata": {},
   "outputs": [
    {
     "data": {
      "text/plain": [
       "array([255., 255., 255., 255., 255., 255., 255., 255., 255., 255., 255.,\n",
       "       255.,   0.,   0., 255.])"
      ]
     },
     "execution_count": 50,
     "metadata": {},
     "output_type": "execute_result"
    }
   ],
   "source": [
    "col"
   ]
  },
  {
   "cell_type": "code",
   "execution_count": 88,
   "metadata": {},
   "outputs": [],
   "source": [
    "tmp = np.copy(grid)\n",
    "for i in range(1, len(tmp)-1):\n",
    "    for j in range(len(tmp[i])):\n",
    "        if tmp[i-1, j] == 255 and tmp[i+1, j] == 255:\n",
    "            tmp[i, j] = 255"
   ]
  },
  {
   "cell_type": "code",
   "execution_count": 89,
   "metadata": {},
   "outputs": [
    {
     "data": {
      "image/png": "[encoded data removed]",
      "text/plain": [
       "<Figure size 432x288 with 1 Axes>"
      ]
     },
     "metadata": {
      "needs_background": "light"
     },
     "output_type": "display_data"
    }
   ],
   "source": [
    "prev = tmp[0, 0]\n",
    "for i in range(1, len(tmp)-1):\n",
    "    for j in range(1, len(tmp[i])-1):\n",
    "        cur = tmp[i, j]\n",
    "        if prev != cur:\n",
    "            new = cur\n",
    "            x = i; y = j\n",
    "            while new == cur:\n",
    "                new = tmp[x, y]\n",
    "                y += 1\n",
    "            subtmp = tmp[:, j:y]\n",
    "            count = 0\n",
    "            plt.imshow(subtmp)\n",
    "            break\n",
    "            for m in range(len(subtmp)):\n",
    "                for z in range(1, len(subtmp[m])-2):\n",
    "                    if subtmp[m, z] == 255:\n",
    "                        #subtmp[m, count:z] = 255\n",
    "                        newcount = z\n",
    "        else:\n",
    "            prev = cur\n",
    "        "
   ]
  },
  {
   "cell_type": "code",
   "execution_count": 94,
   "metadata": {},
   "outputs": [
    {
     "data": {
      "text/plain": [
       "<matplotlib.image.AxesImage at 0x81f955eb8>"
      ]
     },
     "execution_count": 94,
     "metadata": {},
     "output_type": "execute_result"
    },
    {
     "data": {
      "image/png": "[encoded data removed]",
      "text/plain": [
       "<Figure size 432x288 with 1 Axes>"
      ]
     },
     "metadata": {
      "needs_background": "light"
     },
     "output_type": "display_data"
    }
   ],
   "source": []
  },
  {
   "cell_type": "code",
   "execution_count": 85,
   "metadata": {},
   "outputs": [
    {
     "data": {
      "text/plain": [
       "<matplotlib.image.AxesImage at 0x81f80ff98>"
      ]
     },
     "execution_count": 85,
     "metadata": {},
     "output_type": "execute_result"
    },
    {
     "data": {
      "image/png": "[encoded data removed]",
      "text/plain": [
       "<Figure size 432x288 with 1 Axes>"
      ]
     },
     "metadata": {
      "needs_background": "light"
     },
     "output_type": "display_data"
    }
   ],
   "source": [
    "plt.imshow(tmp)"
   ]
  },
  {
   "cell_type": "code",
   "execution_count": 47,
   "metadata": {},
   "outputs": [],
   "source": [
    "# 3 rows/columns at a time"
   ]
  },
  {
   "cell_type": "code",
   "execution_count": 48,
   "metadata": {},
   "outputs": [],
   "source": [
    "rowinds = np.arange(0, arena.size[0], 3)\n",
    "colinds = np.arange(0, arena.size[1], 3)"
   ]
  },
  {
   "cell_type": "code",
   "execution_count": 69,
   "metadata": {},
   "outputs": [
    {
     "name": "stdout",
     "output_type": "stream",
     "text": [
      "[[255. 255. 255. 255. 255. 255. 255. 255. 255. 255. 255. 255. 255. 255.\n",
      "  255.]\n",
      " [255. 255. 255.   0.   0.   0.   0. 255.   0.   0.   0. 255.   0.   0.\n",
      "  255.]\n",
      " [255. 255. 255.   0.   0.   0.   0. 255.   0.   0.   0. 255.   0.   0.\n",
      "  255.]] \n",
      "\n",
      "[[255. 255. 255. 255. 255. 255. 255. 255.   0.   0.   0. 255.   0.   0.\n",
      "  255.]\n",
      " [255. 255. 255. 255. 255. 255. 255. 255.   0.   0.   0. 255.   0.   0.\n",
      "  255.]\n",
      " [255. 255. 255. 255. 255. 255. 255. 255.   0.   0.   0. 255.   0.   0.\n",
      "  255.]] \n",
      "\n",
      "[[255. 255. 255. 255. 255. 255. 255. 255.   0.   0.   0. 255.   0.   0.\n",
      "  255.]\n",
      " [255. 255. 255. 255. 255. 255. 255.   0.   0.   0.   0.   0.   0.   0.\n",
      "  255.]\n",
      " [255. 255. 255. 255. 255. 255. 255.   0.   0.   0.   0.   0.   0.   0.\n",
      "  255.]] \n",
      "\n",
      "[[255. 255. 255. 255. 255. 255. 255.   0.   0.   0.   0.   0.   0.   0.\n",
      "  255.]\n",
      " [255.   0.   0.   0.   0.   0.   0.   0.   0.   0.   0.   0.   0.   0.\n",
      "  255.]\n",
      " [255.   0.   0.   0.   0.   0.   0.   0.   0.   0.   0.   0.   0.   0.\n",
      "  255.]] \n",
      "\n"
     ]
    }
   ],
   "source": [
    "for i in range(len(rowinds)-1):\n",
    "    ind = rowinds[i]\n",
    "    nexind = rowinds[i+1]\n",
    "    sliced = tmp[ind:nexind, :]\n",
    "    print(sliced, '\\n')\n",
    "    for j in range(len(sliced)):\n",
    "        if sliced[j][1] == 0 and sliced[j][0] == 255 and sliced[j][2] == 255:\n",
    "            tmp[j[1], ind:nexind] = 255\n",
    "            "
   ]
  },
  {
   "cell_type": "code",
   "execution_count": 62,
   "metadata": {},
   "outputs": [
    {
     "data": {
      "text/plain": [
       "<matplotlib.image.AxesImage at 0x81eff3240>"
      ]
     },
     "execution_count": 62,
     "metadata": {},
     "output_type": "execute_result"
    },
    {
     "data": {
      "image/png": "[encoded data removed]",
      "text/plain": [
       "<Figure size 432x288 with 1 Axes>"
      ]
     },
     "metadata": {
      "needs_background": "light"
     },
     "output_type": "display_data"
    }
   ],
   "source": []
  },
  {
   "cell_type": "code",
   "execution_count": null,
   "metadata": {},
   "outputs": [],
   "source": []
  }
 ],
 "metadata": {
  "kernelspec": {
   "display_name": "Python 3",
   "language": "python",
   "name": "python3"
  },
  "language_info": {
   "codemirror_mode": {
    "name": "ipython",
    "version": 3
   },
   "file_extension": ".py",
   "mimetype": "text/x-python",
   "name": "python",
   "nbconvert_exporter": "python",
   "pygments_lexer": "ipython3",
   "version": "3.7.3"
  }
 },
 "nbformat": 4,
 "nbformat_minor": 2
}
